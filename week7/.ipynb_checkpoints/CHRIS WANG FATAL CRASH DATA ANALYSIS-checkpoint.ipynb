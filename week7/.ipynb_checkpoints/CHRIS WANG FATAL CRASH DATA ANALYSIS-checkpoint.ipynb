{
 "cells": [
  {
   "cell_type": "code",
   "execution_count": 1,
   "metadata": {},
   "outputs": [],
   "source": [
    "import matplotlib\n",
    "import matplotlib.pyplot as plt\n",
    "import numpy as np\n",
    "import pandas as pd\n",
    "import os"
   ]
  },
  {
   "cell_type": "code",
   "execution_count": 2,
   "metadata": {},
   "outputs": [],
   "source": [
    "%matplotlib inline\n",
    "plt.rcParams['figure.figsize'] = (20, 10)"
   ]
  },
  {
   "cell_type": "code",
   "execution_count": 3,
   "metadata": {},
   "outputs": [],
   "source": [
    "saved_style_state = matplotlib.rcParams.copy()"
   ]
  },
  {
   "cell_type": "code",
   "execution_count": 13,
   "metadata": {},
   "outputs": [
    {
     "name": "stdout",
     "output_type": "stream",
     "text": [
      "loading from file\n",
      "done\n"
     ]
    }
   ],
   "source": [
    "if os.path.isfile(\"bitre_ardd_fatal_crashes_jun_2019.csv\"):\n",
    "    filepath = \"bitre_ardd_fatal_crashes_jun_2019.csv\"\n",
    "    print(\"loading from file\")\n",
    "else:\n",
    "    print(\"Put ur file there\")\n",
    "crashdf = pd.read_csv(filepath, low_memory=False)\n",
    "    #returns dataframe\n",
    "print(\"done\")"
   ]
  },
  {
   "cell_type": "code",
   "execution_count": 14,
   "metadata": {},
   "outputs": [
    {
     "data": {
      "text/html": [
       "<div>\n",
       "<style scoped>\n",
       "    .dataframe tbody tr th:only-of-type {\n",
       "        vertical-align: middle;\n",
       "    }\n",
       "\n",
       "    .dataframe tbody tr th {\n",
       "        vertical-align: top;\n",
       "    }\n",
       "\n",
       "    .dataframe thead th {\n",
       "        text-align: right;\n",
       "    }\n",
       "</style>\n",
       "<table border=\"1\" class=\"dataframe\">\n",
       "  <thead>\n",
       "    <tr style=\"text-align: right;\">\n",
       "      <th></th>\n",
       "      <th>Crash ID</th>\n",
       "      <th>State</th>\n",
       "      <th>Month</th>\n",
       "      <th>Year</th>\n",
       "      <th>Dayweek</th>\n",
       "      <th>Time</th>\n",
       "      <th>Crash Type</th>\n",
       "      <th>Number Fatalities</th>\n",
       "      <th>Bus Involvement</th>\n",
       "      <th>Heavy Rigid Truck Involvement</th>\n",
       "      <th>Articulated Truck Involvement</th>\n",
       "      <th>Speed Limit</th>\n",
       "      <th>National Remoteness Areas</th>\n",
       "      <th>SA4 Name 2016</th>\n",
       "      <th>National LGA Name 2017</th>\n",
       "      <th>National Road Type</th>\n",
       "      <th>Christmas Period</th>\n",
       "      <th>Easter Period</th>\n",
       "      <th>Day of week</th>\n",
       "      <th>Time of Day</th>\n",
       "    </tr>\n",
       "  </thead>\n",
       "  <tbody>\n",
       "    <tr>\n",
       "      <th>0</th>\n",
       "      <td>20192053</td>\n",
       "      <td>Vic</td>\n",
       "      <td>6</td>\n",
       "      <td>2019</td>\n",
       "      <td>Sunday</td>\n",
       "      <td>5:55</td>\n",
       "      <td>Single</td>\n",
       "      <td>1</td>\n",
       "      <td>-9</td>\n",
       "      <td>-9</td>\n",
       "      <td>-9</td>\n",
       "      <td>-9</td>\n",
       "      <td>Inner Regional Australia</td>\n",
       "      <td>Bendigo</td>\n",
       "      <td>Greater Bendigo (C)</td>\n",
       "      <td>National or State Highway</td>\n",
       "      <td>No</td>\n",
       "      <td>No</td>\n",
       "      <td>Weekend</td>\n",
       "      <td>Night</td>\n",
       "    </tr>\n",
       "    <tr>\n",
       "      <th>1</th>\n",
       "      <td>20192085</td>\n",
       "      <td>Vic</td>\n",
       "      <td>6</td>\n",
       "      <td>2019</td>\n",
       "      <td>Saturday</td>\n",
       "      <td>1:20</td>\n",
       "      <td>Single</td>\n",
       "      <td>1</td>\n",
       "      <td>-9</td>\n",
       "      <td>-9</td>\n",
       "      <td>-9</td>\n",
       "      <td>-9</td>\n",
       "      <td>Outer Regional Australia</td>\n",
       "      <td>North West</td>\n",
       "      <td>Buloke (S)</td>\n",
       "      <td>National or State Highway</td>\n",
       "      <td>No</td>\n",
       "      <td>No</td>\n",
       "      <td>Weekend</td>\n",
       "      <td>Night</td>\n",
       "    </tr>\n",
       "    <tr>\n",
       "      <th>2</th>\n",
       "      <td>20191127</td>\n",
       "      <td>NSW</td>\n",
       "      <td>6</td>\n",
       "      <td>2019</td>\n",
       "      <td>Friday</td>\n",
       "      <td>14:12</td>\n",
       "      <td>Multiple</td>\n",
       "      <td>2</td>\n",
       "      <td>No</td>\n",
       "      <td>Yes</td>\n",
       "      <td>No</td>\n",
       "      <td>90</td>\n",
       "      <td>Major Cities of Australia</td>\n",
       "      <td>Illawarra</td>\n",
       "      <td>Wollongong</td>\n",
       "      <td>National or State Highway</td>\n",
       "      <td>No</td>\n",
       "      <td>No</td>\n",
       "      <td>Weekday</td>\n",
       "      <td>Day</td>\n",
       "    </tr>\n",
       "    <tr>\n",
       "      <th>3</th>\n",
       "      <td>20192057</td>\n",
       "      <td>Vic</td>\n",
       "      <td>6</td>\n",
       "      <td>2019</td>\n",
       "      <td>Friday</td>\n",
       "      <td>12:00</td>\n",
       "      <td>Pedestrian</td>\n",
       "      <td>1</td>\n",
       "      <td>-9</td>\n",
       "      <td>Yes</td>\n",
       "      <td>-9</td>\n",
       "      <td>50</td>\n",
       "      <td>Major Cities of Australia</td>\n",
       "      <td>Melbourne - Inner</td>\n",
       "      <td>Melbourne (C)</td>\n",
       "      <td>Local Road</td>\n",
       "      <td>No</td>\n",
       "      <td>No</td>\n",
       "      <td>Weekday</td>\n",
       "      <td>Day</td>\n",
       "    </tr>\n",
       "    <tr>\n",
       "      <th>4</th>\n",
       "      <td>20191063</td>\n",
       "      <td>NSW</td>\n",
       "      <td>6</td>\n",
       "      <td>2019</td>\n",
       "      <td>Friday</td>\n",
       "      <td>6:58</td>\n",
       "      <td>Multiple</td>\n",
       "      <td>1</td>\n",
       "      <td>No</td>\n",
       "      <td>No</td>\n",
       "      <td>Yes</td>\n",
       "      <td>110</td>\n",
       "      <td>Remote Australia</td>\n",
       "      <td>Murray</td>\n",
       "      <td>Hay</td>\n",
       "      <td>National or State Highway</td>\n",
       "      <td>No</td>\n",
       "      <td>No</td>\n",
       "      <td>Weekday</td>\n",
       "      <td>Day</td>\n",
       "    </tr>\n",
       "    <tr>\n",
       "      <th>5</th>\n",
       "      <td>20194030</td>\n",
       "      <td>SA</td>\n",
       "      <td>6</td>\n",
       "      <td>2019</td>\n",
       "      <td>Friday</td>\n",
       "      <td>18:45</td>\n",
       "      <td>Multiple</td>\n",
       "      <td>1</td>\n",
       "      <td>No</td>\n",
       "      <td>No</td>\n",
       "      <td>No</td>\n",
       "      <td>110</td>\n",
       "      <td>NaN</td>\n",
       "      <td>NaN</td>\n",
       "      <td>NaN</td>\n",
       "      <td>NaN</td>\n",
       "      <td>No</td>\n",
       "      <td>No</td>\n",
       "      <td>Weekend</td>\n",
       "      <td>Night</td>\n",
       "    </tr>\n",
       "    <tr>\n",
       "      <th>6</th>\n",
       "      <td>20191117</td>\n",
       "      <td>NSW</td>\n",
       "      <td>6</td>\n",
       "      <td>2019</td>\n",
       "      <td>Thursday</td>\n",
       "      <td>6:45</td>\n",
       "      <td>Single</td>\n",
       "      <td>1</td>\n",
       "      <td>No</td>\n",
       "      <td>No</td>\n",
       "      <td>No</td>\n",
       "      <td>60</td>\n",
       "      <td>Major Cities of Australia</td>\n",
       "      <td>Illawarra</td>\n",
       "      <td>Wollongong</td>\n",
       "      <td>Arterial Road</td>\n",
       "      <td>No</td>\n",
       "      <td>No</td>\n",
       "      <td>Weekday</td>\n",
       "      <td>Day</td>\n",
       "    </tr>\n",
       "    <tr>\n",
       "      <th>7</th>\n",
       "      <td>20192148</td>\n",
       "      <td>Vic</td>\n",
       "      <td>6</td>\n",
       "      <td>2019</td>\n",
       "      <td>Thursday</td>\n",
       "      <td>14:55</td>\n",
       "      <td>Pedestrian</td>\n",
       "      <td>1</td>\n",
       "      <td>-9</td>\n",
       "      <td>-9</td>\n",
       "      <td>-9</td>\n",
       "      <td>-9</td>\n",
       "      <td>Inner Regional Australia</td>\n",
       "      <td>Ballarat</td>\n",
       "      <td>Central Goldfields (S)</td>\n",
       "      <td>Local Road</td>\n",
       "      <td>No</td>\n",
       "      <td>No</td>\n",
       "      <td>Weekday</td>\n",
       "      <td>Day</td>\n",
       "    </tr>\n",
       "    <tr>\n",
       "      <th>8</th>\n",
       "      <td>20193003</td>\n",
       "      <td>Qld</td>\n",
       "      <td>6</td>\n",
       "      <td>2019</td>\n",
       "      <td>Thursday</td>\n",
       "      <td>3:00</td>\n",
       "      <td>Single</td>\n",
       "      <td>1</td>\n",
       "      <td>No</td>\n",
       "      <td>No</td>\n",
       "      <td>No</td>\n",
       "      <td>100</td>\n",
       "      <td>Outer Regional Australia</td>\n",
       "      <td>Central Queensland</td>\n",
       "      <td>Livingstone (S)</td>\n",
       "      <td>Sub-arterial Road</td>\n",
       "      <td>No</td>\n",
       "      <td>No</td>\n",
       "      <td>Weekday</td>\n",
       "      <td>Night</td>\n",
       "    </tr>\n",
       "    <tr>\n",
       "      <th>9</th>\n",
       "      <td>20197013</td>\n",
       "      <td>NT</td>\n",
       "      <td>6</td>\n",
       "      <td>2019</td>\n",
       "      <td>Thursday</td>\n",
       "      <td>20:00</td>\n",
       "      <td>Single</td>\n",
       "      <td>1</td>\n",
       "      <td>No</td>\n",
       "      <td>No</td>\n",
       "      <td>No</td>\n",
       "      <td>110</td>\n",
       "      <td>Very Remote Australia</td>\n",
       "      <td>Northern Territory - Outback</td>\n",
       "      <td>Roper Gulf (R)</td>\n",
       "      <td>Arterial Road</td>\n",
       "      <td>No</td>\n",
       "      <td>No</td>\n",
       "      <td>Weekday</td>\n",
       "      <td>Night</td>\n",
       "    </tr>\n",
       "  </tbody>\n",
       "</table>\n",
       "</div>"
      ],
      "text/plain": [
       "   Crash ID State  Month  Year   Dayweek   Time  Crash Type  \\\n",
       "0  20192053   Vic      6  2019    Sunday   5:55      Single   \n",
       "1  20192085   Vic      6  2019  Saturday   1:20      Single   \n",
       "2  20191127   NSW      6  2019    Friday  14:12    Multiple   \n",
       "3  20192057   Vic      6  2019    Friday  12:00  Pedestrian   \n",
       "4  20191063   NSW      6  2019    Friday   6:58    Multiple   \n",
       "5  20194030    SA      6  2019    Friday  18:45    Multiple   \n",
       "6  20191117   NSW      6  2019  Thursday   6:45      Single   \n",
       "7  20192148   Vic      6  2019  Thursday  14:55  Pedestrian   \n",
       "8  20193003   Qld      6  2019  Thursday   3:00      Single   \n",
       "9  20197013    NT      6  2019  Thursday  20:00      Single   \n",
       "\n",
       "   Number Fatalities Bus Involvement Heavy Rigid Truck Involvement  \\\n",
       "0                  1              -9                            -9   \n",
       "1                  1              -9                            -9   \n",
       "2                  2              No                           Yes   \n",
       "3                  1              -9                           Yes   \n",
       "4                  1              No                            No   \n",
       "5                  1              No                            No   \n",
       "6                  1              No                            No   \n",
       "7                  1              -9                            -9   \n",
       "8                  1              No                            No   \n",
       "9                  1              No                            No   \n",
       "\n",
       "  Articulated Truck Involvement Speed Limit  National Remoteness Areas  \\\n",
       "0                            -9          -9   Inner Regional Australia   \n",
       "1                            -9          -9   Outer Regional Australia   \n",
       "2                            No          90  Major Cities of Australia   \n",
       "3                            -9          50  Major Cities of Australia   \n",
       "4                           Yes         110           Remote Australia   \n",
       "5                            No         110                        NaN   \n",
       "6                            No          60  Major Cities of Australia   \n",
       "7                            -9          -9   Inner Regional Australia   \n",
       "8                            No         100   Outer Regional Australia   \n",
       "9                            No         110      Very Remote Australia   \n",
       "\n",
       "                  SA4 Name 2016  National LGA Name 2017  \\\n",
       "0                       Bendigo     Greater Bendigo (C)   \n",
       "1                    North West              Buloke (S)   \n",
       "2                     Illawarra              Wollongong   \n",
       "3             Melbourne - Inner           Melbourne (C)   \n",
       "4                        Murray                     Hay   \n",
       "5                           NaN                     NaN   \n",
       "6                     Illawarra              Wollongong   \n",
       "7                      Ballarat  Central Goldfields (S)   \n",
       "8            Central Queensland         Livingstone (S)   \n",
       "9  Northern Territory - Outback          Roper Gulf (R)   \n",
       "\n",
       "          National Road Type Christmas Period Easter Period Day of week  \\\n",
       "0  National or State Highway               No            No     Weekend   \n",
       "1  National or State Highway               No            No     Weekend   \n",
       "2  National or State Highway               No            No     Weekday   \n",
       "3                 Local Road               No            No     Weekday   \n",
       "4  National or State Highway               No            No     Weekday   \n",
       "5                        NaN               No            No     Weekend   \n",
       "6              Arterial Road               No            No     Weekday   \n",
       "7                 Local Road               No            No     Weekday   \n",
       "8          Sub-arterial Road               No            No     Weekday   \n",
       "9              Arterial Road               No            No     Weekday   \n",
       "\n",
       "  Time of Day  \n",
       "0       Night  \n",
       "1       Night  \n",
       "2         Day  \n",
       "3         Day  \n",
       "4         Day  \n",
       "5       Night  \n",
       "6         Day  \n",
       "7         Day  \n",
       "8       Night  \n",
       "9       Night  "
      ]
     },
     "execution_count": 14,
     "metadata": {},
     "output_type": "execute_result"
    }
   ],
   "source": [
    "crashdf.head(10)"
   ]
  },
  {
   "cell_type": "code",
   "execution_count": 52,
   "metadata": {},
   "outputs": [
    {
     "name": "stdout",
     "output_type": "stream",
     "text": [
      "loading from file\n",
      "done\n"
     ]
    }
   ],
   "source": [
    "if os.path.isfile(\"bitre_ardd_fatalities_jun_2019.csv\"):\n",
    "    filepath = \"bitre_ardd_fatalities_jun_2019.csv\"\n",
    "    print(\"loading from file\")\n",
    "else:\n",
    "    print(\"Put ur file there\")\n",
    "fataldf = pd.read_csv(filepath, low_memory=False)\n",
    "    #returns dataframe\n",
    "print(\"done\")"
   ]
  },
  {
   "cell_type": "code",
   "execution_count": 55,
   "metadata": {},
   "outputs": [],
   "source": [
    "dfinal = crashdf.merge(fataldf, on=\"Crash ID\", how = 'inner')"
   ]
  },
  {
   "cell_type": "code",
   "execution_count": 58,
   "metadata": {},
   "outputs": [
    {
     "data": {
      "text/html": [
       "<div>\n",
       "<style scoped>\n",
       "    .dataframe tbody tr th:only-of-type {\n",
       "        vertical-align: middle;\n",
       "    }\n",
       "\n",
       "    .dataframe tbody tr th {\n",
       "        vertical-align: top;\n",
       "    }\n",
       "\n",
       "    .dataframe thead th {\n",
       "        text-align: right;\n",
       "    }\n",
       "</style>\n",
       "<table border=\"1\" class=\"dataframe\">\n",
       "  <thead>\n",
       "    <tr style=\"text-align: right;\">\n",
       "      <th></th>\n",
       "      <th>Crash ID</th>\n",
       "      <th>State_x</th>\n",
       "      <th>Month_x</th>\n",
       "      <th>Year_x</th>\n",
       "      <th>Dayweek_x</th>\n",
       "      <th>Time_x</th>\n",
       "      <th>Crash Type_x</th>\n",
       "      <th>Number Fatalities</th>\n",
       "      <th>Bus Involvement_x</th>\n",
       "      <th>Heavy Rigid Truck Involvement_x</th>\n",
       "      <th>...</th>\n",
       "      <th>Age</th>\n",
       "      <th>National Remoteness Areas_y</th>\n",
       "      <th>SA4 Name 2016_y</th>\n",
       "      <th>National LGA Name 2017_y</th>\n",
       "      <th>National Road Type_y</th>\n",
       "      <th>Christmas Period_y</th>\n",
       "      <th>Easter Period_y</th>\n",
       "      <th>Age Group</th>\n",
       "      <th>Day of week_y</th>\n",
       "      <th>Time of day</th>\n",
       "    </tr>\n",
       "  </thead>\n",
       "  <tbody>\n",
       "    <tr>\n",
       "      <th>0</th>\n",
       "      <td>20192053</td>\n",
       "      <td>Vic</td>\n",
       "      <td>6</td>\n",
       "      <td>2019</td>\n",
       "      <td>Sunday</td>\n",
       "      <td>5:55</td>\n",
       "      <td>Single</td>\n",
       "      <td>1</td>\n",
       "      <td>-9</td>\n",
       "      <td>-9</td>\n",
       "      <td>...</td>\n",
       "      <td>22</td>\n",
       "      <td>Inner Regional Australia</td>\n",
       "      <td>Bendigo</td>\n",
       "      <td>Greater Bendigo (C)</td>\n",
       "      <td>National or State Highway</td>\n",
       "      <td>No</td>\n",
       "      <td>No</td>\n",
       "      <td>17_to_25</td>\n",
       "      <td>Weekend</td>\n",
       "      <td>Night</td>\n",
       "    </tr>\n",
       "    <tr>\n",
       "      <th>1</th>\n",
       "      <td>20192085</td>\n",
       "      <td>Vic</td>\n",
       "      <td>6</td>\n",
       "      <td>2019</td>\n",
       "      <td>Saturday</td>\n",
       "      <td>1:20</td>\n",
       "      <td>Single</td>\n",
       "      <td>1</td>\n",
       "      <td>-9</td>\n",
       "      <td>-9</td>\n",
       "      <td>...</td>\n",
       "      <td>44</td>\n",
       "      <td>Outer Regional Australia</td>\n",
       "      <td>North West</td>\n",
       "      <td>Buloke (S)</td>\n",
       "      <td>National or State Highway</td>\n",
       "      <td>No</td>\n",
       "      <td>No</td>\n",
       "      <td>40_to_64</td>\n",
       "      <td>Weekend</td>\n",
       "      <td>Night</td>\n",
       "    </tr>\n",
       "    <tr>\n",
       "      <th>2</th>\n",
       "      <td>20191127</td>\n",
       "      <td>NSW</td>\n",
       "      <td>6</td>\n",
       "      <td>2019</td>\n",
       "      <td>Friday</td>\n",
       "      <td>14:12</td>\n",
       "      <td>Multiple</td>\n",
       "      <td>2</td>\n",
       "      <td>No</td>\n",
       "      <td>Yes</td>\n",
       "      <td>...</td>\n",
       "      <td>54</td>\n",
       "      <td>Major Cities of Australia</td>\n",
       "      <td>Illawarra</td>\n",
       "      <td>Wollongong</td>\n",
       "      <td>National or State Highway</td>\n",
       "      <td>No</td>\n",
       "      <td>No</td>\n",
       "      <td>40_to_64</td>\n",
       "      <td>Weekday</td>\n",
       "      <td>Day</td>\n",
       "    </tr>\n",
       "    <tr>\n",
       "      <th>3</th>\n",
       "      <td>20191127</td>\n",
       "      <td>NSW</td>\n",
       "      <td>6</td>\n",
       "      <td>2019</td>\n",
       "      <td>Friday</td>\n",
       "      <td>14:12</td>\n",
       "      <td>Multiple</td>\n",
       "      <td>2</td>\n",
       "      <td>No</td>\n",
       "      <td>Yes</td>\n",
       "      <td>...</td>\n",
       "      <td>70</td>\n",
       "      <td>Major Cities of Australia</td>\n",
       "      <td>Illawarra</td>\n",
       "      <td>Wollongong</td>\n",
       "      <td>National or State Highway</td>\n",
       "      <td>No</td>\n",
       "      <td>No</td>\n",
       "      <td>65_to_74</td>\n",
       "      <td>Weekday</td>\n",
       "      <td>Day</td>\n",
       "    </tr>\n",
       "    <tr>\n",
       "      <th>4</th>\n",
       "      <td>20192057</td>\n",
       "      <td>Vic</td>\n",
       "      <td>6</td>\n",
       "      <td>2019</td>\n",
       "      <td>Friday</td>\n",
       "      <td>12:00</td>\n",
       "      <td>Pedestrian</td>\n",
       "      <td>1</td>\n",
       "      <td>-9</td>\n",
       "      <td>Yes</td>\n",
       "      <td>...</td>\n",
       "      <td>87</td>\n",
       "      <td>Major Cities of Australia</td>\n",
       "      <td>Melbourne - Inner</td>\n",
       "      <td>Melbourne (C)</td>\n",
       "      <td>Local Road</td>\n",
       "      <td>No</td>\n",
       "      <td>No</td>\n",
       "      <td>75_or_older</td>\n",
       "      <td>Weekday</td>\n",
       "      <td>Day</td>\n",
       "    </tr>\n",
       "  </tbody>\n",
       "</table>\n",
       "<p>5 rows × 42 columns</p>\n",
       "</div>"
      ],
      "text/plain": [
       "   Crash ID State_x  Month_x  Year_x Dayweek_x Time_x Crash Type_x  \\\n",
       "0  20192053     Vic        6    2019    Sunday   5:55       Single   \n",
       "1  20192085     Vic        6    2019  Saturday   1:20       Single   \n",
       "2  20191127     NSW        6    2019    Friday  14:12     Multiple   \n",
       "3  20191127     NSW        6    2019    Friday  14:12     Multiple   \n",
       "4  20192057     Vic        6    2019    Friday  12:00   Pedestrian   \n",
       "\n",
       "   Number Fatalities Bus Involvement_x Heavy Rigid Truck Involvement_x  ...  \\\n",
       "0                  1                -9                              -9  ...   \n",
       "1                  1                -9                              -9  ...   \n",
       "2                  2                No                             Yes  ...   \n",
       "3                  2                No                             Yes  ...   \n",
       "4                  1                -9                             Yes  ...   \n",
       "\n",
       "  Age National Remoteness Areas_y    SA4 Name 2016_y National LGA Name 2017_y  \\\n",
       "0  22    Inner Regional Australia            Bendigo      Greater Bendigo (C)   \n",
       "1  44    Outer Regional Australia         North West               Buloke (S)   \n",
       "2  54   Major Cities of Australia          Illawarra               Wollongong   \n",
       "3  70   Major Cities of Australia          Illawarra               Wollongong   \n",
       "4  87   Major Cities of Australia  Melbourne - Inner            Melbourne (C)   \n",
       "\n",
       "        National Road Type_y Christmas Period_y Easter Period_y    Age Group  \\\n",
       "0  National or State Highway                 No              No     17_to_25   \n",
       "1  National or State Highway                 No              No     40_to_64   \n",
       "2  National or State Highway                 No              No     40_to_64   \n",
       "3  National or State Highway                 No              No     65_to_74   \n",
       "4                 Local Road                 No              No  75_or_older   \n",
       "\n",
       "  Day of week_y Time of day  \n",
       "0       Weekend       Night  \n",
       "1       Weekend       Night  \n",
       "2       Weekday         Day  \n",
       "3       Weekday         Day  \n",
       "4       Weekday         Day  \n",
       "\n",
       "[5 rows x 42 columns]"
      ]
     },
     "execution_count": 58,
     "metadata": {},
     "output_type": "execute_result"
    }
   ],
   "source": [
    "dfinal.head()"
   ]
  },
  {
   "cell_type": "code",
   "execution_count": 64,
   "metadata": {},
   "outputs": [
    {
     "data": {
      "text/plain": [
       "Crash ID                                            20192085\n",
       "State_x                                                  Vic\n",
       "Month_x                                                    6\n",
       "Year_x                                                  2019\n",
       "Dayweek_x                                           Saturday\n",
       "Time_x                                                  1:20\n",
       "Crash Type_x                                          Single\n",
       "Number Fatalities                                          1\n",
       "Bus Involvement_x                                         -9\n",
       "Heavy Rigid Truck Involvement_x                           -9\n",
       "Articulated Truck Involvement_x                           -9\n",
       "Speed Limit_x                                             -9\n",
       "National Remoteness Areas_x         Outer Regional Australia\n",
       "SA4 Name 2016_x                                   North West\n",
       "National LGA Name 2017_x                          Buloke (S)\n",
       "National Road Type_x               National or State Highway\n",
       "Christmas Period_x                                        No\n",
       "Easter Period_x                                           No\n",
       "Day of week_x                                        Weekend\n",
       "Time of Day                                            Night\n",
       "State_y                                                  Vic\n",
       "Month_y                                                    6\n",
       "Year_y                                                  2019\n",
       "Dayweek_y                                           Saturday\n",
       "Time_y                                                 01:20\n",
       "Crash Type_y                                          Single\n",
       "Bus Involvement_y                                         -9\n",
       "Heavy Rigid Truck Involvement_y                           -9\n",
       "Articulated Truck Involvement_y                           -9\n",
       "Speed Limit_y                                             -9\n",
       "Road User                                             Driver\n",
       "Gender                                                  Male\n",
       "Age                                                       44\n",
       "National Remoteness Areas_y         Outer Regional Australia\n",
       "SA4 Name 2016_y                                   North West\n",
       "National LGA Name 2017_y                          Buloke (S)\n",
       "National Road Type_y               National or State Highway\n",
       "Christmas Period_y                                        No\n",
       "Easter Period_y                                           No\n",
       "Age Group                                           40_to_64\n",
       "Day of week_y                                        Weekend\n",
       "Time of day                                            Night\n",
       "Name: 1, dtype: object"
      ]
     },
     "execution_count": 64,
     "metadata": {},
     "output_type": "execute_result"
    }
   ],
   "source": [
    "row1 =dfinal.iloc[1]\n",
    "row1"
   ]
  },
  {
   "cell_type": "code",
   "execution_count": 66,
   "metadata": {},
   "outputs": [
    {
     "data": {
      "text/plain": [
       "0        Vic\n",
       "1        Vic\n",
       "2        NSW\n",
       "3        NSW\n",
       "4        Vic\n",
       "5        NSW\n",
       "6         SA\n",
       "7        NSW\n",
       "8        Vic\n",
       "9        Qld\n",
       "10        NT\n",
       "11       Vic\n",
       "12       ACT\n",
       "13       Tas\n",
       "14       NSW\n",
       "15       Qld\n",
       "16       NSW\n",
       "17       Qld\n",
       "18       Qld\n",
       "19       NSW\n",
       "20        SA\n",
       "21        SA\n",
       "22        SA\n",
       "23       NSW\n",
       "24       NSW\n",
       "25       NSW\n",
       "26        WA\n",
       "27        WA\n",
       "28        SA\n",
       "29       Vic\n",
       "        ... \n",
       "50331    Vic\n",
       "50332    Vic\n",
       "50333    Vic\n",
       "50334    Vic\n",
       "50335    Vic\n",
       "50336    Qld\n",
       "50337    Qld\n",
       "50338    Vic\n",
       "50339    Qld\n",
       "50340    Vic\n",
       "50341    Vic\n",
       "50342    Vic\n",
       "50343    Tas\n",
       "50344     WA\n",
       "50345    Tas\n",
       "50346    Vic\n",
       "50347     WA\n",
       "50348     WA\n",
       "50349     WA\n",
       "50350    NSW\n",
       "50351    NSW\n",
       "50352    NSW\n",
       "50353    Qld\n",
       "50354    Vic\n",
       "50355    Qld\n",
       "50356    NSW\n",
       "50357    Qld\n",
       "50358    NSW\n",
       "50359    NSW\n",
       "50360    NSW\n",
       "Name: State_x, Length: 50361, dtype: object"
      ]
     },
     "execution_count": 66,
     "metadata": {},
     "output_type": "execute_result"
    }
   ],
   "source": [
    "dfinal['State_x']"
   ]
  },
  {
   "cell_type": "markdown",
   "metadata": {},
   "source": [
    "# **Seeing the ratio of crashes within our states**"
   ]
  },
  {
   "cell_type": "code",
   "execution_count": 67,
   "metadata": {},
   "outputs": [
    {
     "data": {
      "text/plain": [
       "NSW    15644\n",
       "Vic    11069\n",
       "Qld     9892\n",
       "WA      5929\n",
       "SA      4328\n",
       "NT      1564\n",
       "Tas     1475\n",
       "ACT      460\n",
       "Name: State_x, dtype: int64"
      ]
     },
     "execution_count": 67,
     "metadata": {},
     "output_type": "execute_result"
    }
   ],
   "source": [
    "dfinal[\"State_x\"].value_counts()"
   ]
  },
  {
   "cell_type": "code",
   "execution_count": 70,
   "metadata": {},
   "outputs": [
    {
     "data": {
      "text/plain": [
       "<matplotlib.axes._subplots.AxesSubplot at 0x119fd4dd8>"
      ]
     },
     "execution_count": 70,
     "metadata": {},
     "output_type": "execute_result"
    },
    {
     "data": {
      "image/png": "[encoded data removed]",
      "text/plain": [
       "<Figure size 1440x720 with 1 Axes>"
      ]
     },
     "metadata": {
      "needs_background": "light"
     },
     "output_type": "display_data"
    }
   ],
   "source": [
    "crashdf[\"State\"].value_counts().plot(kind=\"bar\")"
   ]
  },
  {
   "cell_type": "code",
   "execution_count": 39,
   "metadata": {},
   "outputs": [],
   "source": [
    "# **Seeing the ratio of crashes within months**'Month', 'Year', 'Dayweek', 'Time', 'Crash Type',\n",
    "       'Number Fatalities', 'Bus Involvement', 'pi',\n",
    "       'Articulated Truck Involvement', 'Speed Limit',\n",
    "       'National Remoteness Areas', 'SA4 Name 2016', 'National LGA Name 2017',\n",
    "       'National Road Type', 'Christmas Period', 'Easter Period',\n",
    "       'Day of week', 'Time of Day'"
   ]
  },
  {
   "cell_type": "code",
   "execution_count": 46,
   "metadata": {},
   "outputs": [
    {
     "data": {
      "text/plain": [
       "3     4076\n",
       "12    4004\n",
       "5     3927\n",
       "10    3856\n",
       "11    3772\n",
       "8     3752\n",
       "4     3725\n",
       "6     3721\n",
       "1     3693\n",
       "7     3659\n",
       "9     3658\n",
       "2     3442\n",
       "Name: Month, dtype: int64"
      ]
     },
     "execution_count": 46,
     "metadata": {},
     "output_type": "execute_result"
    }
   ],
   "source": [
    "crashdf[\"Month\"].value_counts()"
   ]
  },
  {
   "cell_type": "code",
   "execution_count": 76,
   "metadata": {},
   "outputs": [
    {
     "data": {
      "text/plain": [
       "<matplotlib.axes._subplots.AxesSubplot at 0x11a47e4a8>"
      ]
     },
     "execution_count": 76,
     "metadata": {},
     "output_type": "execute_result"
    },
    {
     "data": {
      "image/png": "[encoded data removed]",
      "text/plain": [
       "<Figure size 1440x720 with 1 Axes>"
      ]
     },
     "metadata": {
      "needs_background": "light"
     },
     "output_type": "display_data"
    }
   ],
   "source": [
    "dfinal[\"Month_x\"].value_counts().plot(kind=\"bar\")"
   ]
  },
  {
   "cell_type": "code",
   "execution_count": 45,
   "metadata": {},
   "outputs": [],
   "source": [
    "# **Seeing the ratio of crashes within years**"
   ]
  },
  {
   "cell_type": "code",
   "execution_count": 47,
   "metadata": {},
   "outputs": [
    {
     "data": {
      "text/plain": [
       "1989    2407\n",
       "1990    2050\n",
       "1991    1874\n",
       "1995    1822\n",
       "1996    1768\n",
       "1993    1737\n",
       "1992    1736\n",
       "1994    1702\n",
       "2000    1628\n",
       "1997    1601\n",
       "2001    1584\n",
       "1998    1573\n",
       "1999    1553\n",
       "2002    1525\n",
       "2005    1472\n",
       "2007    1453\n",
       "2006    1452\n",
       "2003    1445\n",
       "2004    1444\n",
       "2009    1347\n",
       "2008    1315\n",
       "2010    1233\n",
       "2016    1199\n",
       "2012    1190\n",
       "2011    1151\n",
       "2017    1127\n",
       "2013    1101\n",
       "2015    1100\n",
       "2018    1056\n",
       "2014    1051\n",
       "2019     589\n",
       "Name: Year, dtype: int64"
      ]
     },
     "execution_count": 47,
     "metadata": {},
     "output_type": "execute_result"
    }
   ],
   "source": [
    "crashdf[\"Year\"].value_counts()"
   ]
  },
  {
   "cell_type": "code",
   "execution_count": 78,
   "metadata": {},
   "outputs": [
    {
     "data": {
      "text/plain": [
       "<matplotlib.axes._subplots.AxesSubplot at 0x11a4e46d8>"
      ]
     },
     "execution_count": 78,
     "metadata": {},
     "output_type": "execute_result"
    },
    {
     "data": {
      "image/png": "[encoded data removed]",
      "text/plain": [
       "<Figure size 1440x720 with 1 Axes>"
      ]
     },
     "metadata": {
      "needs_background": "light"
     },
     "output_type": "display_data"
    }
   ],
   "source": [
    "dfinal[\"Year_x\"].value_counts().plot(kind=\"bar\")"
   ]
  },
  {
   "cell_type": "code",
   "execution_count": 41,
   "metadata": {},
   "outputs": [],
   "source": [
    "# **Seeing the ratio of crashes within our dayweek**"
   ]
  },
  {
   "cell_type": "code",
   "execution_count": 48,
   "metadata": {},
   "outputs": [
    {
     "data": {
      "text/plain": [
       "Saturday     8233\n",
       "Friday       7400\n",
       "Sunday       7153\n",
       "Thursday     6174\n",
       "Wednesday    5719\n",
       "Tuesday      5322\n",
       "Monday       5284\n",
       "Name: Dayweek, dtype: int64"
      ]
     },
     "execution_count": 48,
     "metadata": {},
     "output_type": "execute_result"
    }
   ],
   "source": [
    "crashdf[\"Dayweek\"].value_counts()"
   ]
  },
  {
   "cell_type": "code",
   "execution_count": 82,
   "metadata": {},
   "outputs": [
    {
     "data": {
      "text/plain": [
       "<matplotlib.axes._subplots.AxesSubplot at 0x11c450d30>"
      ]
     },
     "execution_count": 82,
     "metadata": {},
     "output_type": "execute_result"
    },
    {
     "data": {
      "image/png": "[encoded data removed]",
      "text/plain": [
       "<Figure size 1440x720 with 1 Axes>"
      ]
     },
     "metadata": {
      "needs_background": "light"
     },
     "output_type": "display_data"
    }
   ],
   "source": [
    "dfinal[\"Dayweek_x\"].value_counts().plot(kind=\"bar\")"
   ]
  },
  {
   "cell_type": "code",
   "execution_count": 42,
   "metadata": {},
   "outputs": [],
   "source": [
    "# **Seeing the ratio of crashes within our time**"
   ]
  },
  {
   "cell_type": "code",
   "execution_count": 49,
   "metadata": {},
   "outputs": [
    {
     "data": {
      "text/plain": [
       "Single        19152\n",
       "Multiple      18293\n",
       "Pedestrian     7840\n",
       "Name: Crash Type, dtype: int64"
      ]
     },
     "execution_count": 49,
     "metadata": {},
     "output_type": "execute_result"
    }
   ],
   "source": [
    "crashdf[\"Crash Type\"].value_counts()"
   ]
  },
  {
   "cell_type": "code",
   "execution_count": 83,
   "metadata": {},
   "outputs": [
    {
     "data": {
      "text/plain": [
       "<matplotlib.axes._subplots.AxesSubplot at 0x11c61d278>"
      ]
     },
     "execution_count": 83,
     "metadata": {},
     "output_type": "execute_result"
    },
    {
     "data": {
      "image/png": "[encoded data removed]",
      "text/plain": [
       "<Figure size 1440x720 with 1 Axes>"
      ]
     },
     "metadata": {
      "needs_background": "light"
     },
     "output_type": "display_data"
    }
   ],
   "source": [
    "crashdf[\"Crash Type\"].value_counts().plot(kind=\"bar\")"
   ]
  },
  {
   "cell_type": "code",
   "execution_count": 43,
   "metadata": {},
   "outputs": [],
   "source": [
    "# **Seeing the ratio of crashes within our crashtype**"
   ]
  },
  {
   "cell_type": "code",
   "execution_count": 50,
   "metadata": {},
   "outputs": [
    {
     "data": {
      "text/plain": [
       "1     41326\n",
       "2      3201\n",
       "3       551\n",
       "4       144\n",
       "5        40\n",
       "6        14\n",
       "7         3\n",
       "11        2\n",
       "20        1\n",
       "12        1\n",
       "10        1\n",
       "35        1\n",
       "Name: Number Fatalities, dtype: int64"
      ]
     },
     "execution_count": 50,
     "metadata": {},
     "output_type": "execute_result"
    }
   ],
   "source": [
    "crashdf[\"Number Fatalities\"].value_counts()"
   ]
  },
  {
   "cell_type": "code",
   "execution_count": 84,
   "metadata": {},
   "outputs": [
    {
     "data": {
      "text/plain": [
       "<matplotlib.axes._subplots.AxesSubplot at 0x11f6269e8>"
      ]
     },
     "execution_count": 84,
     "metadata": {},
     "output_type": "execute_result"
    },
    {
     "data": {
      "image/png": "[encoded data removed]",
      "text/plain": [
       "<Figure size 1440x720 with 1 Axes>"
      ]
     },
     "metadata": {
      "needs_background": "light"
     },
     "output_type": "display_data"
    }
   ],
   "source": [
    "crashdf[\"Number Fatalities\"].value_counts().plot(kind=\"bar\")"
   ]
  },
  {
   "cell_type": "code",
   "execution_count": 44,
   "metadata": {},
   "outputs": [],
   "source": [
    "# **Seeing the ratio of crashes within our Number **"
   ]
  },
  {
   "cell_type": "code",
   "execution_count": 51,
   "metadata": {},
   "outputs": [
    {
     "data": {
      "text/plain": [
       "No     44506\n",
       "Yes      764\n",
       "-9        15\n",
       "Name: Bus Involvement, dtype: int64"
      ]
     },
     "execution_count": 51,
     "metadata": {},
     "output_type": "execute_result"
    }
   ],
   "source": [
    "crashdf[\"Bus Involvement\"].value_counts()"
   ]
  },
  {
   "cell_type": "code",
   "execution_count": 85,
   "metadata": {},
   "outputs": [
    {
     "data": {
      "text/plain": [
       "<matplotlib.axes._subplots.AxesSubplot at 0x11f974f98>"
      ]
     },
     "execution_count": 85,
     "metadata": {},
     "output_type": "execute_result"
    },
    {
     "data": {
      "image/png": "[encoded data removed]",
      "text/plain": [
       "<Figure size 1440x720 with 1 Axes>"
      ]
     },
     "metadata": {
      "needs_background": "light"
     },
     "output_type": "display_data"
    }
   ],
   "source": [
    "crashdf[\"Bus Involvement\"].value_counts().plot(kind=\"bar\")"
   ]
  },
  {
   "cell_type": "code",
   "execution_count": null,
   "metadata": {},
   "outputs": [],
   "source": [
    "crashdf[\"Bus Involvement\"].value_counts().plot(kind=\"bar\")"
   ]
  },
  {
   "cell_type": "code",
   "execution_count": null,
   "metadata": {},
   "outputs": [],
   "source": [
    "crashdf[\"Bus Involvement\"].value_counts().plot(kind=\"bar\")"
   ]
  },
  {
   "cell_type": "code",
   "execution_count": null,
   "metadata": {},
   "outputs": [],
   "source": []
  }
 ],
 "metadata": {
  "kernelspec": {
   "display_name": "Python 3",
   "language": "python",
   "name": "python3"
  },
  "language_info": {
   "codemirror_mode": {
    "name": "ipython",
    "version": 3
   },
   "file_extension": ".py",
   "mimetype": "text/x-python",
   "name": "python",
   "nbconvert_exporter": "python",
   "pygments_lexer": "ipython3",
   "version": "3.7.3"
  }
 },
 "nbformat": 4,
 "nbformat_minor": 2
}
